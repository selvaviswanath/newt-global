{
 "cells": [
  {
   "cell_type": "code",
   "execution_count": null,
   "id": "bd7ecee4-9bc9-45d5-bca4-3ad1c61572d8",
   "metadata": {},
   "outputs": [],
   "source": [
    "from pyspark.sql import SparkSession\n",
    "spark = SparkSession.builder.appName(\"walmart\").getOrCreate()\n",
    "df = spark.read.csv('walmart_stock.csv',header=True,inferSchema=True)\n",
    "df.columns\n",
    "df.printSchema()\n",
    "df.head(5)\n",
    "df.describe().show()\n",
    "df.describe().printSchema()\n",
    "from pyspark.sql.functions import format_number\n",
    "result = df.describe()\n",
    "result.select(result['summary'],\n",
    "              format_number(result['Open'].cast('float'),2).alias('Open'),\n",
    "              format_number(result['High'].cast('float'),2).alias('High'),\n",
    "              format_number(result['Low'].cast('float'),2).alias('Low'),\n",
    "              format_number(result['Close'].cast('float'),2).alias('Close'),\n",
    "              result['Volume'].cast('int').alias('Volume')\n",
    "             ).show()\n",
    "df2 = df.withColumn(\"HV Ratio\",df[\"High\"]/df[\"Volume\"])#.show()\n",
    "df2.select('HV Ratio').show()\n",
    "df.orderBy(df[\"High\"].desc()).head(1)[0][0]\n",
    "from pyspark.sql.functions import mean\n",
    "df.select(mean(\"Close\")).show()\n",
    "from pyspark.sql.functions import max,min\n",
    "df.select(max(\"Volume\"),min(\"Volume\")).show()\n",
    "df.filter(\"Close < 60\").count()\n",
    "df.filter(df['Close'] < 60).count()\n",
    "from pyspark.sql.functions import count\n",
    "result = df.filter(df['Close'] < 60)\n",
    "result.select(count('Close')).show()\n",
    "(df.filter(df[\"High\"]>80).count()*1.0/df.count())*100\n",
    "from pyspark.sql.functions import corr\n",
    "df.select(corr(\"High\",\"Volume\")).show()\n",
    "from pyspark.sql.functions import year\n",
    "yeardf = df.withColumn(\"Year\",year(df[\"Date\"]))\n",
    "max_df = yeardf.groupBy('Year').max()\n",
    "max_df.select('Year','max(High)').show() \n",
    "from pyspark.sql.functions import month\n",
    "monthdf = df.withColumn(\"Month\",month(\"Date\"))\n",
    "monthavgs = monthdf.select(\"Month\",\"Close\").groupBy(\"Month\").mean()\n",
    "monthavgs.select(\"Month\",\"avg(Close)\").orderBy('Month').show()"
   ]
  }
 ],
 "metadata": {
  "kernelspec": {
   "display_name": "Python 3 (ipykernel)",
   "language": "python",
   "name": "python3"
  },
  "language_info": {
   "codemirror_mode": {
    "name": "ipython",
    "version": 3
   },
   "file_extension": ".py",
   "mimetype": "text/x-python",
   "name": "python",
   "nbconvert_exporter": "python",
   "pygments_lexer": "ipython3",
   "version": "3.10.12"
  }
 },
 "nbformat": 4,
 "nbformat_minor": 5
}
